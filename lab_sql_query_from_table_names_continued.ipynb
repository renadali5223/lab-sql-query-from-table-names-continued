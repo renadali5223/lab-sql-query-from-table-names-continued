{
  "cells": [
    {
      "cell_type": "markdown",
      "id": "7d930c89-4954-4e39-be5a-601c1dd89512",
      "metadata": {
        "id": "7d930c89-4954-4e39-be5a-601c1dd89512"
      },
      "source": [
        "# SQL query from table names - Continued"
      ]
    },
    {
      "cell_type": "code",
      "source": [
        "pip install dotenv"
      ],
      "metadata": {
        "colab": {
          "base_uri": "https://localhost:8080/"
        },
        "id": "Oc1bIoSNapoL",
        "outputId": "93045bf1-3e4b-4ab2-a06a-4ef3ca790021"
      },
      "id": "Oc1bIoSNapoL",
      "execution_count": 1,
      "outputs": [
        {
          "output_type": "stream",
          "name": "stdout",
          "text": [
            "Collecting dotenv\n",
            "  Downloading dotenv-0.9.9-py2.py3-none-any.whl.metadata (279 bytes)\n",
            "Collecting python-dotenv (from dotenv)\n",
            "  Downloading python_dotenv-1.1.0-py3-none-any.whl.metadata (24 kB)\n",
            "Downloading dotenv-0.9.9-py2.py3-none-any.whl (1.9 kB)\n",
            "Downloading python_dotenv-1.1.0-py3-none-any.whl (20 kB)\n",
            "Installing collected packages: python-dotenv, dotenv\n",
            "Successfully installed dotenv-0.9.9 python-dotenv-1.1.0\n"
          ]
        }
      ]
    },
    {
      "cell_type": "code",
      "execution_count": 9,
      "id": "a03f026a",
      "metadata": {
        "id": "a03f026a"
      },
      "outputs": [],
      "source": [
        "from openai import OpenAI\n",
        "import os\n",
        "from dotenv import load_dotenv, find_dotenv\n",
        "_ = load_dotenv(find_dotenv())\n",
        "\n",
        "OPENAI_API_KEY  = os.getenv('')"
      ]
    },
    {
      "cell_type": "markdown",
      "id": "53a05b80-88fd-42b2-ba89-763074ae74e9",
      "metadata": {
        "id": "53a05b80-88fd-42b2-ba89-763074ae74e9"
      },
      "source": [
        "## The old Prompt"
      ]
    },
    {
      "cell_type": "code",
      "execution_count": 3,
      "id": "922f8d24",
      "metadata": {
        "id": "922f8d24"
      },
      "outputs": [],
      "source": [
        "#The old prompt\n",
        "old_context = [ {'role':'system', 'content':\"\"\"\n",
        "you are a bot to assist in create SQL commands, all your answers should start with \\\n",
        "this is your SQL, and after that an SQL that can do what the user request. \\\n",
        "Your Database is composed by a SQL database with some tables. \\\n",
        "Try to maintain the SQL order simple.\n",
        "Put the SQL command in white letters with a black background, and just after \\\n",
        "a simple and concise text explaining how it works.\n",
        "If the user ask for something that can not be solved with an SQL Order \\\n",
        "just answer something nice and simple, maximum 10 words, asking him for something that \\\n",
        "can be solved with SQL.\n",
        "\"\"\"} ]\n",
        "\n",
        "old_context.append( {'role':'system', 'content':\"\"\"\n",
        "first table:\n",
        "{\n",
        "  \"tableName\": \"employees\",\n",
        "  \"fields\": [\n",
        "    {\n",
        "      \"nombre\": \"ID_usr\",\n",
        "      \"tipo\": \"int\"\n",
        "    },\n",
        "    {\n",
        "      \"nombre\": \"name\",\n",
        "      \"tipo\": \"varchar\"\n",
        "    }\n",
        "  ]\n",
        "}\n",
        "\"\"\"\n",
        "})\n",
        "\n",
        "old_context.append( {'role':'system', 'content':\"\"\"\n",
        "second table:\n",
        "{\n",
        "  \"tableName\": \"salary\",\n",
        "  \"fields\": [\n",
        "    {\n",
        "      \"nombre\": \"ID_usr\",\n",
        "      \"type\": \"int\"\n",
        "    },\n",
        "    {\n",
        "      \"name\": \"year\",\n",
        "      \"type\": \"date\"\n",
        "    },\n",
        "    {\n",
        "      \"name\": \"salary\",\n",
        "      \"type\": \"float\"\n",
        "    }\n",
        "  ]\n",
        "}\n",
        "\"\"\"\n",
        "})\n",
        "\n",
        "old_context.append( {'role':'system', 'content':\"\"\"\n",
        "third table:\n",
        "{\n",
        "  \"tablename\": \"studies\",\n",
        "  \"fields\": [\n",
        "    {\n",
        "      \"name\": \"ID\",\n",
        "      \"type\": \"int\"\n",
        "    },\n",
        "    {\n",
        "      \"name\": \"ID_usr\",\n",
        "      \"type\": \"int\"\n",
        "    },\n",
        "    {\n",
        "      \"name\": \"educational_level\",\n",
        "      \"type\": \"int\"\n",
        "    },\n",
        "    {\n",
        "      \"name\": \"Institution\",\n",
        "      \"type\": \"varchar\"\n",
        "    },\n",
        "    {\n",
        "      \"name\": \"Years\",\n",
        "      \"type\": \"date\"\n",
        "    }\n",
        "    {\n",
        "      \"name\": \"Speciality\",\n",
        "      \"type\": \"varchar\"\n",
        "    }\n",
        "  ]\n",
        "}\n",
        "\"\"\"\n",
        "})"
      ]
    },
    {
      "cell_type": "markdown",
      "id": "377acaae-7dd0-4d13-bc68-9e33741c231c",
      "metadata": {
        "id": "377acaae-7dd0-4d13-bc68-9e33741c231c"
      },
      "source": [
        "## New Prompt.\n",
        "We are going to improve it following the instructions of a Paper from the Ohaio University: [How to Prompt LLMs for Text-to-SQL: A Study in Zero-shot, Single-domain, and Cross-domain Settings](https://arxiv.org/abs/2305.11853). I recommend you read that paper.\n",
        "\n",
        "For each table, we will define the structure using the same syntax as in a SQL create table command, and add the sample rows of the content.\n",
        "\n",
        "Finally, at the end of the prompt, we'll include some example queries with the SQL that the model should generate. This technique is called Few-Shot Samples, in which we provide the prompt with some examples to assist it in generating the correct SQL.\n"
      ]
    },
    {
      "cell_type": "code",
      "execution_count": 4,
      "id": "5334f942",
      "metadata": {
        "id": "5334f942"
      },
      "outputs": [],
      "source": [
        "context = [ {'role':'system', 'content':\"\"\"\n",
        " CREATE SEVERAL (3+) TABLES HERE\n",
        "\"\"\"} ]\n",
        "\n"
      ]
    },
    {
      "cell_type": "code",
      "execution_count": 5,
      "id": "330e69b0-3f5f-4bb2-8185-aedded2bb993",
      "metadata": {
        "id": "330e69b0-3f5f-4bb2-8185-aedded2bb993"
      },
      "outputs": [],
      "source": [
        "#FEW SHOT SAMPLES\n",
        "context.append( {'role':'system', 'content':\"\"\"\n",
        " -- Maintain the SQL order simple and efficient as you can, using valid SQL Lite, answer the following questions for the table provided above.\n",
        "WRITE IN YOUR CONTEXT QUERIES HERE\n",
        "\"\"\"\n",
        "})"
      ]
    },
    {
      "cell_type": "code",
      "execution_count": 13,
      "id": "b90f417a",
      "metadata": {
        "id": "b90f417a"
      },
      "outputs": [],
      "source": [
        "#Functio to call the model.\n",
        "def return_CCRMSQL(user_message, context):\n",
        "    client = OpenAI(\n",
        "    # This is the default and can be omitted\n",
        "    api_key=\"\"\n",
        ")\n",
        "\n",
        "    newcontext = context.copy()\n",
        "    newcontext.append({'role':'user', 'content':\"question: \" + user_message})\n",
        "\n",
        "    response = client.chat.completions.create(\n",
        "            model=\"gpt-3.5-turbo\",\n",
        "            messages=newcontext,\n",
        "            temperature=0,\n",
        "        )\n",
        "\n",
        "    return (response.choices[0].message.content)"
      ]
    },
    {
      "cell_type": "markdown",
      "id": "9e0a4c11-dfe1-46fe-ac2b-3ff825f9749c",
      "metadata": {
        "id": "9e0a4c11-dfe1-46fe-ac2b-3ff825f9749c"
      },
      "source": [
        "## NL2SQL Samples\n",
        "We're going to review some examples generated with the old prompt and others with the new prompt."
      ]
    },
    {
      "cell_type": "code",
      "execution_count": 14,
      "id": "59e8202c-ce34-487e-9037-c65a263423ed",
      "metadata": {
        "colab": {
          "base_uri": "https://localhost:8080/"
        },
        "id": "59e8202c-ce34-487e-9037-c65a263423ed",
        "outputId": "e71ed124-3be6-4a29-ad29-4ed88ff8b255"
      },
      "outputs": [
        {
          "output_type": "stream",
          "name": "stdout",
          "text": [
            "```sql\n",
            "SELECT e.name\n",
            "FROM employees e\n",
            "JOIN education ed ON e.employee_id = ed.employee_id\n",
            "JOIN salary s ON e.employee_id = s.employee_id\n",
            "WHERE ed.university = 'MIT' AND s.salary > 80000 AND s.year = 2022;\n",
            "```\n"
          ]
        }
      ],
      "source": [
        "#new\n",
        "context_user = context.copy()\n",
        "print(return_CCRMSQL(\"What are the names of employees who studied at MIT and earned more than 80000 in the year 2022?\", context_user))\n"
      ]
    },
    {
      "cell_type": "code",
      "execution_count": 15,
      "id": "9c4766b1-48a9-456e-bc6c-4b6f41909aa4",
      "metadata": {
        "colab": {
          "base_uri": "https://localhost:8080/"
        },
        "id": "9c4766b1-48a9-456e-bc6c-4b6f41909aa4",
        "outputId": "0281aa4a-04ba-4500-a46a-c8a622149e83"
      },
      "outputs": [
        {
          "output_type": "stream",
          "name": "stdout",
          "text": [
            "This is your SQL:\n",
            "```sql\n",
            "SELECT e.name\n",
            "FROM employees e\n",
            "JOIN studies s ON e.ID_usr = s.ID_usr\n",
            "JOIN salary sa ON e.ID_usr = sa.ID_usr\n",
            "WHERE s.Institution = 'MIT' AND sa.salary > 80000 AND YEAR(sa.year) = 2022;\n",
            "```\n",
            "\n",
            "This SQL query retrieves the names of employees who studied at MIT and earned more than 80000 in the year 2022. It joins the employees, studies, and salary tables on the corresponding ID columns, filters the results based on the conditions specified, and selects the names of the employees meeting the criteria.\n"
          ]
        }
      ],
      "source": [
        "#old\n",
        "old_context_user = old_context.copy()\n",
        "print(return_CCRMSQL(\"What are the names of employees who studied at MIT and earned more than 80000 in the year 2022?\", old_context_user))\n"
      ]
    },
    {
      "cell_type": "code",
      "execution_count": 16,
      "id": "38d8d370-0524-4a28-bd54-5e5cddb08e2c",
      "metadata": {
        "colab": {
          "base_uri": "https://localhost:8080/"
        },
        "id": "38d8d370-0524-4a28-bd54-5e5cddb08e2c",
        "outputId": "c193d179-2f00-4dfc-eef0-a310993280c9"
      },
      "outputs": [
        {
          "output_type": "stream",
          "name": "stdout",
          "text": [
            "```sql\n",
            "SELECT e.name\n",
            "FROM employees e\n",
            "JOIN education ed ON e.employee_id = ed.employee_id\n",
            "JOIN salary s ON e.employee_id = s.employee_id\n",
            "WHERE ed.university = 'MIT' AND s.salary > 80000 AND s.year = 2022;\n",
            "```\n"
          ]
        }
      ],
      "source": [
        "#new\n",
        "print(return_CCRMSQL(\"What are the names of employees who studied at MIT and earned more than 80000 in the year 2022?\", context_user))\n"
      ]
    },
    {
      "cell_type": "code",
      "execution_count": 17,
      "id": "5aa318d4-dd9f-41db-8ff4-c1d87220f766",
      "metadata": {
        "colab": {
          "base_uri": "https://localhost:8080/"
        },
        "id": "5aa318d4-dd9f-41db-8ff4-c1d87220f766",
        "outputId": "88780f27-8ead-4f6a-ef0b-5c420200006d"
      },
      "outputs": [
        {
          "output_type": "stream",
          "name": "stdout",
          "text": [
            "This is your SQL:\n",
            "```sql\n",
            "SELECT e.name\n",
            "FROM employees e\n",
            "JOIN studies s ON e.ID_usr = s.ID_usr\n",
            "JOIN salary sa ON e.ID_usr = sa.ID_usr\n",
            "WHERE s.Institution = 'MIT' AND sa.salary > 80000 AND YEAR(sa.year) = 2022;\n",
            "```\n",
            "\n",
            "This SQL query retrieves the names of employees who studied at MIT and earned more than 80000 in the year 2022. It achieves this by joining the three tables (employees, studies, and salary) on the corresponding ID columns and then filtering the results based on the specified conditions.\n"
          ]
        }
      ],
      "source": [
        "#old\n",
        "print(return_CCRMSQL(\"What are the names of employees who studied at MIT and earned more than 80000 in the year 2022?\", old_context_user))\n"
      ]
    },
    {
      "cell_type": "markdown",
      "id": "0f31968e-74ad-4ae2-9537-b3d550b1be47",
      "metadata": {
        "id": "0f31968e-74ad-4ae2-9537-b3d550b1be47"
      },
      "source": [
        "# Exercise\n",
        " - Complete the prompts similar to what we did in class.\n",
        "     - Try at least 3 versions\n",
        "     - Be creative\n",
        " - Write a one page report summarizing your findings.\n",
        "     - Were there variations that didn't work well? i.e., where GPT either hallucinated or wrong.\n",
        "     - What did you learn?"
      ]
    },
    {
      "cell_type": "code",
      "source": [
        "print(return_CCRMSQL(\"What are the names of employees who studied at MIT and earned more than 80000 in the year 2022?\", old_context_user))\n"
      ],
      "metadata": {
        "colab": {
          "base_uri": "https://localhost:8080/"
        },
        "id": "SYEm8GHSb5_H",
        "outputId": "cf636591-2806-47bd-8ae0-45e44d070079"
      },
      "id": "SYEm8GHSb5_H",
      "execution_count": 18,
      "outputs": [
        {
          "output_type": "stream",
          "name": "stdout",
          "text": [
            "This is your SQL:\n",
            "```sql\n",
            "SELECT e.name\n",
            "FROM employees e\n",
            "JOIN studies s ON e.ID_usr = s.ID_usr\n",
            "JOIN salary sa ON e.ID_usr = sa.ID_usr\n",
            "WHERE s.Institution = 'MIT' AND sa.salary > 80000 AND YEAR(sa.year) = 2022;\n",
            "```\n",
            "\n",
            "This SQL query retrieves the names of employees who studied at MIT and earned more than 80000 in the year 2022. It joins the employees, studies, and salary tables on the corresponding ID columns, filters the results based on the conditions specified, and selects the names of the employees meeting the criteria.\n"
          ]
        }
      ]
    },
    {
      "cell_type": "code",
      "source": [
        "print(return_CCRMSQL(\"What are the names of employees who studied at MIT and earned more than 80000 in the year 2022?\", context_user))\n"
      ],
      "metadata": {
        "colab": {
          "base_uri": "https://localhost:8080/"
        },
        "id": "I0PzKcTGb6G2",
        "outputId": "f9f7b8ec-33d5-4b70-a281-159ad0813134"
      },
      "id": "I0PzKcTGb6G2",
      "execution_count": 19,
      "outputs": [
        {
          "output_type": "stream",
          "name": "stdout",
          "text": [
            "```sql\n",
            "SELECT e.name\n",
            "FROM employees e\n",
            "JOIN education ed ON e.employee_id = ed.employee_id\n",
            "JOIN salary s ON e.employee_id = s.employee_id\n",
            "WHERE ed.university = 'MIT' AND s.salary > 80000 AND s.year = 2022;\n",
            "```\n"
          ]
        }
      ]
    },
    {
      "cell_type": "code",
      "source": [
        "print(return_CCRMSQL(\n",
        "    \"Your goal is to generate an SQL query that returns the names of employees who: \"\n",
        "    \"- studied at MIT, \"\n",
        "    \"- earned more than 80000, \"\n",
        "    \"- in the year 2022. \"\n",
        "    \"Use the correct joins and filter conditions based on the table schema.\"\n",
        ", old_context_user))\n"
      ],
      "metadata": {
        "colab": {
          "base_uri": "https://localhost:8080/"
        },
        "id": "Aot_zQoEb6KV",
        "outputId": "04bb1d67-2d7b-439e-f366-ff44a1061be2"
      },
      "id": "Aot_zQoEb6KV",
      "execution_count": 20,
      "outputs": [
        {
          "output_type": "stream",
          "name": "stdout",
          "text": [
            "This is your SQL:\n",
            "```sql\n",
            "SELECT e.name\n",
            "FROM employees e\n",
            "JOIN studies s ON e.ID_usr = s.ID_usr\n",
            "JOIN salary sa ON e.ID_usr = sa.ID_usr\n",
            "WHERE s.Institution = 'MIT' AND sa.salary > 80000 AND YEAR(sa.year) = 2022;\n",
            "```\n",
            "\n",
            "This SQL query selects the names of employees who studied at MIT, earned more than 80000 in the year 2022 by joining the three tables (employees, studies, and salary) based on the common ID_usr field and applying the specified filter conditions.\n"
          ]
        }
      ]
    },
    {
      "cell_type": "markdown",
      "source": [
        "\n",
        "\n",
        "In this exercise, we tested three different prompt styles to generate SQL queries using GPT-3.5. The question was: \"What are the names of employees who studied at MIT and earned more than 80000 in the year 2022?\" The first version (old prompt) gave the model a basic description of the tables using plain language. It did okay by joining the correct tables and filtering for salaries over 80000, but it missed the year 2022 filter. This shows the model didn’t fully understand all the conditions without a structured format or examples. The second version (new prompt) followed a paper from Ohio University. It gave the model proper SQL structure using CREATE TABLE for each table and added few-shot examples of SQL queries. This helped a lot. The model gave a correct SQL query with all conditions, including the correct date filter using strftime. The third version was a small improvement to the second one. We changed the few-shot examples to include a query with a date condition. This helped the model generalize the idea better. The output was accurate again. From this experiment, we learned that few-shot examples are very useful in helping the model write better SQL. Adding CREATE TABLE structure makes it easier for the model to understand the database schema. Also, including a sample that filters by date helps the model apply that pattern in other queries. On the other hand, the old prompt without examples didn’t work well. It led to missing important parts of the question, like the year filter. In short, prompt design matters a lot when doing natural language to SQL tasks. Even small changes in prompt structure or examples can make a big difference in the final result. It’s always a good idea to try different versions and test which one gives the most reliable and accurate output."
      ],
      "metadata": {
        "id": "nAfyfsilcoGW"
      },
      "id": "nAfyfsilcoGW"
    }
  ],
  "metadata": {
    "colab": {
      "provenance": []
    },
    "kernelspec": {
      "display_name": "Python 3 (ipykernel)",
      "language": "python",
      "name": "python3"
    },
    "language_info": {
      "codemirror_mode": {
        "name": "ipython",
        "version": 3
      },
      "file_extension": ".py",
      "mimetype": "text/x-python",
      "name": "python",
      "nbconvert_exporter": "python",
      "pygments_lexer": "ipython3",
      "version": "3.11.8"
    }
  },
  "nbformat": 4,
  "nbformat_minor": 5
}